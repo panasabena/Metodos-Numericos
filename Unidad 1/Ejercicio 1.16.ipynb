{
 "cells": [
  {
   "cell_type": "code",
   "execution_count": 1,
   "id": "a1df15b2",
   "metadata": {},
   "outputs": [],
   "source": [
    "## Ejercicio 1.16\n",
    "## La ley de Newton del enfriamiento establece que la temperatura de un cuerpo cambia con una tasa que es proporcional a \n",
    "## la diferencia de su temperatura y la del medio que lo rodea (temperatura ambiente) dT/dt = -k(T-Ta)\n",
    "## donde T = temperatura del cuerpo (°C), t = tiempo (min), k = constante de proporcionalidad (por minuto), y \n",
    "## Ta = temperatura del ambiente (°C). Suponga que una tasa de café tiene originalmente una temperatura de 68°C. \n",
    "## Emplee el método de Euler para calcular la temperatura desde t = 0 hasta 10 min, usando un tamaño de paso de 1 min, \n",
    "## si Ta = 21°C y k = 0.017/min"
   ]
  },
  {
   "cell_type": "code",
   "execution_count": 2,
   "id": "fbe2d8a3",
   "metadata": {},
   "outputs": [],
   "source": [
    "## Importamos librerias\n",
    "from matplotlib import pyplot as plt\n",
    "from math import *"
   ]
  },
  {
   "cell_type": "code",
   "execution_count": 27,
   "id": "e09e132f",
   "metadata": {},
   "outputs": [],
   "source": [
    "## Definimos variables\n",
    "\n",
    "ti = 0\n",
    "tf = 10\n",
    "tamanio_de_paso = 1\n",
    "Temp_ambiente = 21\n",
    "k = float(0.017)\n",
    "n = int(tf-ti/tamanio_de_paso)+1\n",
    "Temp_cafe = [68]*n"
   ]
  },
  {
   "cell_type": "code",
   "execution_count": 86,
   "id": "af31c5e9",
   "metadata": {},
   "outputs": [],
   "source": [
    "size=[68]\n",
    "tiempo_curado = []\n",
    "t = [0.0]*n\n",
    "def Euler(pendiente, tamanio_de_paso, n, variable_a_calcular):\n",
    "    for i in range (n-1):\n",
    "        t[i+1] = t[i] + tamanio_de_paso\n",
    "        tiempo_curado.append(t[i+1])\n",
    "        variable_a_calcular[i+1] = variable_a_calcular[i] + pendiente*tamanio_de_paso\n",
    "        size.append(variable_a_calcular[i+1])\n",
    "        print('%10.2f %15.5f' % (t[i+1],variable_a_calcular[i]))\n"
   ]
  },
  {
   "cell_type": "code",
   "execution_count": 87,
   "id": "94ece382",
   "metadata": {},
   "outputs": [
    {
     "name": "stdout",
     "output_type": "stream",
     "text": [
      "     t(min)       temperatura (°C)\n",
      "----------------------------------\n",
      "      1.00        68.00000\n",
      "      2.00        67.20100\n",
      "      3.00        66.40200\n",
      "      4.00        65.60300\n",
      "      5.00        64.80400\n",
      "      6.00        64.00500\n",
      "      7.00        63.20600\n",
      "      8.00        62.40700\n",
      "      9.00        61.60800\n",
      "     10.00        60.80900\n"
     ]
    }
   ],
   "source": [
    "pendiente = -k*(68-21)\n",
    "print('     t(min)       temperatura (°C)')\n",
    "print('----------------------------------')\n",
    "Euler(pendiente, tamanio_de_paso, n, Temp_cafe)"
   ]
  },
  {
   "cell_type": "code",
   "execution_count": 91,
   "id": "78db5206",
   "metadata": {},
   "outputs": [
    {
     "data": {
      "image/png": "[encoded data removed]",
      "text/plain": [
       "<Figure size 432x288 with 1 Axes>"
      ]
     },
     "metadata": {
      "needs_background": "light"
     },
     "output_type": "display_data"
    }
   ],
   "source": [
    "## Realizamos gráfico\n",
    "\n",
    "plt.plot(t, size,label='Temperatura (°C)',color='b')\n",
    "#plt.plot(t, v_an,label='analitica',color='g')\n",
    "plt.legend(loc=2)\n",
    "plt.grid()\n",
    "plt.xlabel(\"Tiempo\")\n",
    "plt.ylabel(\"Area de la gota\")\n",
    "plt.title(\"Cambio de la temperatura del café\", \n",
    "          fontdict={'family': 'serif', \n",
    "                    'color' : 'brown',\n",
    "                    'weight': 'bold',\n",
    "                    'size': 18})\n",
    "plt.show()"
   ]
  },
  {
   "cell_type": "code",
   "execution_count": null,
   "id": "762e4190",
   "metadata": {},
   "outputs": [],
   "source": []
  }
 ],
 "metadata": {
  "kernelspec": {
   "display_name": "Python 3 (ipykernel)",
   "language": "python",
   "name": "python3"
  },
  "language_info": {
   "codemirror_mode": {
    "name": "ipython",
    "version": 3
   },
   "file_extension": ".py",
   "mimetype": "text/x-python",
   "name": "python",
   "nbconvert_exporter": "python",
   "pygments_lexer": "ipython3",
   "version": "3.8.8"
  }
 },
 "nbformat": 4,
 "nbformat_minor": 5
}
