{
 "cells": [
  {
   "cell_type": "code",
   "execution_count": 32,
   "id": "9dd73014",
   "metadata": {},
   "outputs": [],
   "source": [
    "class Definiciones:\n",
    "    def tipos_de_errores():\n",
    "        \"\"\"Explica los tipos de erroes que existen en los métodos numéricos\"\"\"\n",
    "        print(\"Hay dos tipos de errores: \\n* De redondeo: Capacidad limitada de almacenamiento de las computadoras\\n* De truncamiento: Diferencia entre la formulación matemática y la aproximación\")\n",
    "    def errores():\n",
    "        print(\"* Valor verdadero(εa) = valor aproximado + error\")\n",
    "        print(\"* Et (Error verdadero) = valor verdadero - valor aproximado\")\n",
    "        print(\"* Error relativo verdadero = error verdadero / valor verdadero\")\n",
    "        print(\"* Error relativo porcentual (εt) = Error relativo verdadero * 100%\")\n",
    "        print(\"* Si de desconoce el valor verdadero: \\nεa = error aproximado / valor aproximado * 100%\")\n",
    "        print(\"* Si se desconoce el valor verdadero (en métodos iterativos):\\nεa = [(aprox.actual-aprox.anterior)/(aprox.actual)] * 100%\\nLas iteraciones sirven hasta que:\\n      |εa| < εs\\nY para asegurar n cifras significativas:\\n      εs = (0,5 x 10**2-n)\")"
   ]
  },
  {
   "cell_type": "code",
   "execution_count": 11,
   "id": "2e14eaf5",
   "metadata": {},
   "outputs": [
    {
     "name": "stdout",
     "output_type": "stream",
     "text": [
      "Hay dos tipos de errores: \n",
      "* De redondeo: Capacidad limitada de almacenamiento de las computadoras\n",
      "* De truncamiento: Diferencia entre la formulación matemática y la aproximación\n"
     ]
    }
   ],
   "source": [
    "Definiciones.tipos_de_errores()"
   ]
  },
  {
   "cell_type": "code",
   "execution_count": 33,
   "id": "a57db7aa",
   "metadata": {},
   "outputs": [
    {
     "name": "stdout",
     "output_type": "stream",
     "text": [
      "* Valor verdadero(εa) = valor aproximado + error\n",
      "* Et (Error verdadero) = valor verdadero - valor aproximado\n",
      "* Error relativo verdadero = error verdadero / valor verdadero\n",
      "* Error relativo porcentual (εt) = Error relativo verdadero * 100%\n",
      "* Si de desconoce el valor verdadero: \n",
      "εa = error aproximado / valor aproximado * 100%\n",
      "* Si se desconoce el valor verdadero (en métodos iterativos):\n",
      "εa = [(aprox.actual-aprox.anterior)/(aprox.actual)] * 100%\n",
      "Las iteraciones sirven hasta que:\n",
      "      |εa| < εs\n",
      "Y para asegurar n cifras significativas:\n",
      "      εs = (0,5 x 10**2-n)\n"
     ]
    }
   ],
   "source": [
    "Definiciones.errores()"
   ]
  },
  {
   "cell_type": "code",
   "execution_count": 19,
   "id": "9c434ae3",
   "metadata": {},
   "outputs": [],
   "source": [
    "## Con el siguiente comando podemos visualizar todas las\n",
    "## definiciones que hicimos dentro de la clase\n",
    "dir(Definiciones)"
   ]
  },
  {
   "cell_type": "code",
   "execution_count": null,
   "id": "f3c01721",
   "metadata": {},
   "outputs": [],
   "source": []
  }
 ],
 "metadata": {
  "kernelspec": {
   "display_name": "Python 3 (ipykernel)",
   "language": "python",
   "name": "python3"
  },
  "language_info": {
   "codemirror_mode": {
    "name": "ipython",
    "version": 3
   },
   "file_extension": ".py",
   "mimetype": "text/x-python",
   "name": "python",
   "nbconvert_exporter": "python",
   "pygments_lexer": "ipython3",
   "version": "3.8.8"
  }
 },
 "nbformat": 4,
 "nbformat_minor": 5
}
