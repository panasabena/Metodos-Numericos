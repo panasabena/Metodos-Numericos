{
 "cells": [
  {
   "cell_type": "markdown",
   "id": "064fa9af-e400-48de-8627-c71bc039e5aa",
   "metadata": {
    "tags": []
   },
   "source": [
    "## Serie de Taylor\n",
    "<image src='C:\\Users\\Alfredo\\Ingeniería Industrial\\Métodos Numéricos\\Imágenes\\SeriedeTaylor.jpg' heigh = '200'>\n"
   ]
  },
  {
   "cell_type": "code",
   "execution_count": 3,
   "id": "b788277d-0fe7-4b3b-84f3-98aa0ab39c89",
   "metadata": {},
   "outputs": [],
   "source": [
    "## Importamos librerias\n",
    "import numpy as np\n",
    "import matplotlib.pyplot as plt\n",
    "from math import *"
   ]
  },
  {
   "cell_type": "code",
   "execution_count": 97,
   "id": "510bb590-1867-42be-a371-7f7876e2d591",
   "metadata": {},
   "outputs": [],
   "source": [
    "## Lista de unos\n",
    "x = np.linspace(-1.5,1.5,100)\n",
    "zero = np.zeros(100)"
   ]
  },
  {
   "cell_type": "code",
   "execution_count": 98,
   "id": "8b9f13c1-e92f-4643-8466-37300c1ec967",
   "metadata": {},
   "outputs": [
    {
     "name": "stdout",
     "output_type": "stream",
     "text": [
      "(100,)\n",
      "[-1.5        -1.46969697 -1.43939394 -1.40909091 -1.37878788 -1.34848485\n",
      " -1.31818182 -1.28787879 -1.25757576 -1.22727273 -1.1969697  -1.16666667\n",
      " -1.13636364 -1.10606061 -1.07575758 -1.04545455 -1.01515152 -0.98484848\n",
      " -0.95454545 -0.92424242 -0.89393939 -0.86363636 -0.83333333 -0.8030303\n",
      " -0.77272727 -0.74242424 -0.71212121 -0.68181818 -0.65151515 -0.62121212\n",
      " -0.59090909 -0.56060606 -0.53030303 -0.5        -0.46969697 -0.43939394\n",
      " -0.40909091 -0.37878788 -0.34848485 -0.31818182 -0.28787879 -0.25757576\n",
      " -0.22727273 -0.1969697  -0.16666667 -0.13636364 -0.10606061 -0.07575758\n",
      " -0.04545455 -0.01515152  0.01515152  0.04545455  0.07575758  0.10606061\n",
      "  0.13636364  0.16666667  0.1969697   0.22727273  0.25757576  0.28787879\n",
      "  0.31818182  0.34848485  0.37878788  0.40909091  0.43939394  0.46969697\n",
      "  0.5         0.53030303  0.56060606  0.59090909  0.62121212  0.65151515\n",
      "  0.68181818  0.71212121  0.74242424  0.77272727  0.8030303   0.83333333\n",
      "  0.86363636  0.89393939  0.92424242  0.95454545  0.98484848  1.01515152\n",
      "  1.04545455  1.07575758  1.10606061  1.13636364  1.16666667  1.1969697\n",
      "  1.22727273  1.25757576  1.28787879  1.31818182  1.34848485  1.37878788\n",
      "  1.40909091  1.43939394  1.46969697  1.5       ]\n"
     ]
    }
   ],
   "source": [
    "print(x.shape)\n",
    "print(x)"
   ]
  },
  {
   "cell_type": "code",
   "execution_count": 86,
   "id": "7ee80258-1121-4134-b655-300708cf94a9",
   "metadata": {},
   "outputs": [
    {
     "name": "stdout",
     "output_type": "stream",
     "text": [
      "(100,)\n",
      "[0. 0. 0. 0. 0. 0. 0. 0. 0. 0. 0. 0. 0. 0. 0. 0. 0. 0. 0. 0. 0. 0. 0. 0.\n",
      " 0. 0. 0. 0. 0. 0. 0. 0. 0. 0. 0. 0. 0. 0. 0. 0. 0. 0. 0. 0. 0. 0. 0. 0.\n",
      " 0. 0. 0. 0. 0. 0. 0. 0. 0. 0. 0. 0. 0. 0. 0. 0. 0. 0. 0. 0. 0. 0. 0. 0.\n",
      " 0. 0. 0. 0. 0. 0. 0. 0. 0. 0. 0. 0. 0. 0. 0. 0. 0. 0. 0. 0. 0. 0. 0. 0.\n",
      " 0. 0. 0. 0.]\n"
     ]
    }
   ],
   "source": [
    "print(zero.shape)\n",
    "print(zero)"
   ]
  },
  {
   "cell_type": "markdown",
   "id": "541c244d-7ef3-4c5b-93f0-875a08f35b3a",
   "metadata": {},
   "source": [
    "### Como restar el valor posterior con el valor anterior en numpy"
   ]
  },
  {
   "cell_type": "code",
   "execution_count": null,
   "id": "2e4dbaec-bf56-4ff3-b3da-74fc63779a43",
   "metadata": {},
   "outputs": [],
   "source": [
    "# Ejemplo\n",
    "\n",
    "a = np.array([1, 3, 5, 7, 9])\n",
    "\n",
    "# Calcular la diferencia entre elementos consecutivos\n",
    "diff = np.diff(a)\n",
    "\n",
    "print(diff)  # Imprime: [2 2 2 2]\n"
   ]
  },
  {
   "cell_type": "code",
   "execution_count": 104,
   "id": "d7b4bc83-0420-4092-922d-abd877ce6d0c",
   "metadata": {},
   "outputs": [
    {
     "name": "stdout",
     "output_type": "stream",
     "text": [
      "(100,)\n",
      "[0.03030303 0.03030303 0.03030303 0.03030303 0.03030303 0.03030303\n",
      " 0.03030303 0.03030303 0.03030303 0.03030303 0.03030303 0.03030303\n",
      " 0.03030303 0.03030303 0.03030303 0.03030303 0.03030303 0.03030303\n",
      " 0.03030303 0.03030303 0.03030303 0.03030303 0.03030303 0.03030303\n",
      " 0.03030303 0.03030303 0.03030303 0.03030303 0.03030303 0.03030303\n",
      " 0.03030303 0.03030303 0.03030303 0.03030303 0.03030303 0.03030303\n",
      " 0.03030303 0.03030303 0.03030303 0.03030303 0.03030303 0.03030303\n",
      " 0.03030303 0.03030303 0.03030303 0.03030303 0.03030303 0.03030303\n",
      " 0.03030303 0.03030303 0.03030303 0.03030303 0.03030303 0.03030303\n",
      " 0.03030303 0.03030303 0.03030303 0.03030303 0.03030303 0.03030303\n",
      " 0.03030303 0.03030303 0.03030303 0.03030303 0.03030303 0.03030303\n",
      " 0.03030303 0.03030303 0.03030303 0.03030303 0.03030303 0.03030303\n",
      " 0.03030303 0.03030303 0.03030303 0.03030303 0.03030303 0.03030303\n",
      " 0.03030303 0.03030303 0.03030303 0.03030303 0.03030303 0.03030303\n",
      " 0.03030303 0.03030303 0.03030303 0.03030303 0.03030303 0.03030303\n",
      " 0.03030303 0.03030303 0.03030303 0.03030303 0.03030303 0.03030303\n",
      " 0.03030303 0.03030303 0.03030303 0.03030303]\n"
     ]
    }
   ],
   "source": [
    "h_ = np.diff(x)\n",
    "h = np.append(h_,0.03030303)\n",
    "print(h.shape)\n",
    "print(h)"
   ]
  },
  {
   "cell_type": "code",
   "execution_count": 77,
   "id": "918f38c8-a779-4d24-a0ff-33eae289db14",
   "metadata": {},
   "outputs": [],
   "source": [
    "## Lista de x - 1\n",
    "x_menos_1 = x-1"
   ]
  },
  {
   "cell_type": "code",
   "execution_count": 78,
   "id": "c743bf34-4c7e-4aa2-a5f2-558a59ab2241",
   "metadata": {},
   "outputs": [
    {
     "name": "stdout",
     "output_type": "stream",
     "text": [
      "(100,)\n",
      "[-2.5        -2.46969697 -2.43939394 -2.40909091 -2.37878788 -2.34848485\n",
      " -2.31818182 -2.28787879 -2.25757576 -2.22727273 -2.1969697  -2.16666667\n",
      " -2.13636364 -2.10606061 -2.07575758 -2.04545455 -2.01515152 -1.98484848\n",
      " -1.95454545 -1.92424242 -1.89393939 -1.86363636 -1.83333333 -1.8030303\n",
      " -1.77272727 -1.74242424 -1.71212121 -1.68181818 -1.65151515 -1.62121212\n",
      " -1.59090909 -1.56060606 -1.53030303 -1.5        -1.46969697 -1.43939394\n",
      " -1.40909091 -1.37878788 -1.34848485 -1.31818182 -1.28787879 -1.25757576\n",
      " -1.22727273 -1.1969697  -1.16666667 -1.13636364 -1.10606061 -1.07575758\n",
      " -1.04545455 -1.01515152 -0.98484848 -0.95454545 -0.92424242 -0.89393939\n",
      " -0.86363636 -0.83333333 -0.8030303  -0.77272727 -0.74242424 -0.71212121\n",
      " -0.68181818 -0.65151515 -0.62121212 -0.59090909 -0.56060606 -0.53030303\n",
      " -0.5        -0.46969697 -0.43939394 -0.40909091 -0.37878788 -0.34848485\n",
      " -0.31818182 -0.28787879 -0.25757576 -0.22727273 -0.1969697  -0.16666667\n",
      " -0.13636364 -0.10606061 -0.07575758 -0.04545455 -0.01515152  0.01515152\n",
      "  0.04545455  0.07575758  0.10606061  0.13636364  0.16666667  0.1969697\n",
      "  0.22727273  0.25757576  0.28787879  0.31818182  0.34848485  0.37878788\n",
      "  0.40909091  0.43939394  0.46969697  0.5       ]\n"
     ]
    }
   ],
   "source": [
    "print(x_menos_1.shape)\n",
    "print(x_menos_1)"
   ]
  },
  {
   "cell_type": "code",
   "execution_count": 79,
   "id": "7d19f38b-62df-4773-99d8-89ae29cc0dc9",
   "metadata": {},
   "outputs": [],
   "source": [
    "## Funcion original f(x) = sin(x-1)*(e**(2*x))\n",
    "funcion_y=np.sin(x_menos_1)*(e**(2*x))"
   ]
  },
  {
   "cell_type": "code",
   "execution_count": 90,
   "id": "c42fedfc-e359-49d3-aaf1-981fbefddfd6",
   "metadata": {},
   "outputs": [],
   "source": [
    "## Derivada primera de la funcion_y: y' = cos(x-1)*(e**(2*x)) + 2*sin(x-1)*(e**(2*x))\n",
    "funcion_y_derivada_1 = np.cos(x_menos_1)*(e**(2*x)) + 2*np.sin(x_menos_1)*(e**(2*x))"
   ]
  },
  {
   "cell_type": "code",
   "execution_count": 105,
   "id": "f5c49d7d-8efb-4bb4-9b91-6bcf289883aa",
   "metadata": {},
   "outputs": [],
   "source": [
    "## Derivada segunda de la funcion_y: y'' = 3*sin(x-1)*(e**(2*x)) + 4*cos(x-1)*(e**(2*x))\n",
    "funcion_y_derivada_2 = 3*np.sin(x_menos_1)*(e**(2*x)) + 4*np.cos(x_menos_1)*(e**(2*x))"
   ]
  },
  {
   "cell_type": "code",
   "execution_count": 106,
   "id": "4a1bac5b-642f-4363-a930-32c0e023a587",
   "metadata": {},
   "outputs": [],
   "source": [
    "## Derivada tercera de la funcion_y: y''' = 11*cos(x-1)*(e**(2*x)) + 2*sin(x-1)*(e**(2*x))\n",
    "funcion_y_derivada_3 = 11*np.cos(x_menos_1)*(e**(2*x)) + 2*np.sin(x_menos_1)*(e**(2*x))"
   ]
  },
  {
   "cell_type": "code",
   "execution_count": 107,
   "id": "21beec8d-30cb-415d-a433-72241d91106b",
   "metadata": {},
   "outputs": [],
   "source": [
    "## Derivada cuarta de la funcion_y: y'''' = -7*sin(x-1)*(e**(2*x)) + 24*cos(x-1)*(e**(2*x))\n",
    "funcion_y_derivada_4 = -7*np.sin(x_menos_1)*(e**(2*x)) + 24*np.cos(x_menos_1)*(e**(2*x))"
   ]
  },
  {
   "cell_type": "code",
   "execution_count": 108,
   "id": "65e50647-696c-4194-9262-bd959d6db0a4",
   "metadata": {},
   "outputs": [],
   "source": [
    "## Derivada quinta de la funcion_y: y''''' = 41*cos(x-1)*(e**(2*x)) - 38*sin(x-1)*(e**(2*x))\n",
    "funcion_y_derivada_5 = 41*np.cos(x_menos_1)*(e**(2*x)) - 38*np.sin(x_menos_1)*(e**(2*x))"
   ]
  },
  {
   "cell_type": "code",
   "execution_count": 133,
   "id": "8d60f6cc-ed5f-4b35-931a-bc5f00fd2c27",
   "metadata": {},
   "outputs": [],
   "source": [
    "## Derivada sexta de la funcion_y: y'''''' = -117*sin(x-1)*(e**(2*x)) + 44*cos(x-1)*(e**(2*x))\n",
    "funcion_y_derivada_6 = -117*np.sin(x-1)*(e**(2*x)) + 44*np.cos(x-1)*(e**(2*x))"
   ]
  },
  {
   "cell_type": "markdown",
   "id": "0737812e-2d25-4c1f-8f28-b9f27dd8b889",
   "metadata": {},
   "source": [
    "## Armar la serie de taylor para cada funcion derivada"
   ]
  },
  {
   "cell_type": "code",
   "execution_count": 115,
   "id": "8ffd629e-2bc3-43ac-8642-6f366714f859",
   "metadata": {},
   "outputs": [
    {
     "name": "stdout",
     "output_type": "stream",
     "text": [
      "[-0.00301451 -0.00325014 -0.00350028 -0.00376557 -0.00404667 -0.00434425\n",
      " -0.00465898 -0.00499154 -0.0053426  -0.00571282 -0.00610288 -0.00651343\n",
      " -0.0069451  -0.00739851 -0.00787425 -0.00837287 -0.0088949  -0.00944079\n",
      " -0.01001096 -0.01060576 -0.01122546 -0.01187024 -0.0125402  -0.0132353\n",
      " -0.01395539 -0.01470019 -0.01546923 -0.0162619  -0.01707737 -0.01791459\n",
      " -0.01877229 -0.01964892 -0.02054265 -0.0214513  -0.02237239 -0.023303\n",
      " -0.02423984 -0.02517912 -0.02611658 -0.02704742 -0.02796624 -0.028867\n",
      " -0.02974299 -0.03058673 -0.03138996 -0.03214353 -0.03283738 -0.0334604\n",
      " -0.03400045 -0.03444419 -0.03477705 -0.03498311 -0.03504503 -0.03494394\n",
      " -0.03465931 -0.03416888 -0.03344854 -0.03247216 -0.03121152 -0.02963614\n",
      " -0.02771314 -0.02540711 -0.02267994 -0.01949068 -0.01579533 -0.01154672\n",
      " -0.00669426 -0.00118384  0.00504246  0.0120465   0.01989433  0.0286564\n",
      "  0.03840776  0.04922832  0.06120306  0.07442228  0.08898186  0.10498348\n",
      "  0.12253488  0.14175013  0.1627499   0.18566168  0.21062006  0.23776699\n",
      "  0.26725205  0.29923265  0.33387436  0.37135105  0.4118452   0.45554806\n",
      "  0.50265987  0.55339006  0.60795738  0.66659004  0.72952582  0.79701216\n",
      "  0.86930618  0.94667466  1.02939402  1.11775016]\n"
     ]
    }
   ],
   "source": [
    "# f(Xi) = Zero\n",
    "# f'(Xi) = funcion_y_derivada_priemera\n",
    "# Serie de taylor para la derivada primera: f(Xi) + f'(Xi)*(Xi+1 - Xi)\n",
    "taylor_derivada_primera = zero + funcion_y_derivada_1*h\n",
    "print(taylor_derivada_primera)"
   ]
  },
  {
   "cell_type": "code",
   "execution_count": 118,
   "id": "69faeecf-02fd-4309-855e-370dacb0e238",
   "metadata": {},
   "outputs": [
    {
     "name": "stdout",
     "output_type": "stream",
     "text": [
      "[-0.00312881 -0.00337153 -0.00362908 -0.00390211 -0.00419129 -0.00449727\n",
      " -0.00482075 -0.00516239 -0.00552286 -0.00590284 -0.00630298 -0.00672393\n",
      " -0.00716632 -0.00763075 -0.00811779 -0.00862799 -0.00916184 -0.00971977\n",
      " -0.01030218 -0.01090937 -0.01154157 -0.01219893 -0.01288147 -0.01358912\n",
      " -0.01432165 -0.01507869 -0.01585972 -0.01666401 -0.01749064 -0.01833844\n",
      " -0.01920602 -0.02009168 -0.02099344 -0.02190896 -0.02283557 -0.02377016\n",
      " -0.0247092  -0.02564868 -0.02658408 -0.02751031 -0.02842167 -0.02931178\n",
      " -0.03017358 -0.0309992  -0.03177996 -0.03250627 -0.03316756 -0.03375223\n",
      " -0.03424756 -0.03463961 -0.03491316 -0.03505162 -0.03503688 -0.03484928\n",
      " -0.03446747 -0.03386828 -0.03302662 -0.03191535 -0.03050515 -0.02876438\n",
      " -0.02665894 -0.0241521  -0.02120437 -0.01777332 -0.01381341 -0.00927581\n",
      " -0.00410821  0.00174535  0.00834471  0.01575378  0.02404075  0.0332783\n",
      "  0.04354387  0.05491984  0.06749379  0.08135876  0.09661344  0.11336249\n",
      "  0.13171676  0.15179356  0.17371688  0.1976177   0.22363425  0.2519122\n",
      "  0.28260501  0.31587409  0.35188911  0.39082819  0.43287814  0.47823466\n",
      "  0.52710254  0.57969582  0.63623796  0.69696193  0.76211033  0.83193542\n",
      "  0.90669917  0.98667319  1.07213868  1.16338626]\n"
     ]
    }
   ],
   "source": [
    "taylor_derivada_segunda = zero + taylor_derivada_primera + (funcion_y_derivada_2/2) * (h**2)\n",
    "print(taylor_derivada_segunda)"
   ]
  },
  {
   "cell_type": "code",
   "execution_count": 122,
   "id": "04da64ad-706f-41e2-9ff4-585dbb9e43c8",
   "metadata": {},
   "outputs": [
    {
     "name": "stdout",
     "output_type": "stream",
     "text": [
      "[-6.14563298e-03 -6.62409107e-03 -7.13188402e-03 -7.67031437e-03\n",
      " -8.24070298e-03 -8.84438500e-03 -9.48270518e-03 -1.01570126e-02\n",
      " -1.08686544e-02 -1.16189695e-02 -1.24092803e-02 -1.32408846e-02\n",
      " -1.41150461e-02 -1.50329835e-02 -1.59958589e-02 -1.70047652e-02\n",
      " -1.80607111e-02 -1.91646061e-02 -2.03172429e-02 -2.15192783e-02\n",
      " -2.27712130e-02 -2.40733685e-02 -2.54258628e-02 -2.68285836e-02\n",
      " -2.82811587e-02 -2.97829251e-02 -3.13328941e-02 -3.29297144e-02\n",
      " -3.45716320e-02 -3.62564468e-02 -3.79814660e-02 -3.97434536e-02\n",
      " -4.15385759e-02 -4.33623439e-02 -4.52095502e-02 -4.70742019e-02\n",
      " -4.89494488e-02 -5.08275063e-02 -5.26995728e-02 -5.45557418e-02\n",
      " -5.63849078e-02 -5.81746660e-02 -5.99112051e-02 -6.15791940e-02\n",
      " -6.31616602e-02 -6.46398615e-02 -6.59931492e-02 -6.71988232e-02\n",
      " -6.82319785e-02 -6.90653424e-02 -6.96691026e-02 -7.00107255e-02\n",
      " -7.00547640e-02 -6.97626552e-02 -6.90925070e-02 -6.79988735e-02\n",
      " -6.64325188e-02 -6.43401687e-02 -6.16642506e-02 -5.83426201e-02\n",
      " -5.43082753e-02 -4.94890578e-02 -4.38073402e-02 -3.71797000e-02\n",
      " -2.95165803e-02 -2.07219357e-02 -1.06928653e-02  6.80769058e-04\n",
      "  1.35167376e-02  2.79408518e-02  4.40873865e-02  6.20995157e-02\n",
      "  8.21297603e-02  1.04340449e-01  1.28904188e-01  1.56004349e-01\n",
      "  1.85835552e-01  2.18604176e-01  2.54528858e-01  2.93841014e-01\n",
      "  3.36785350e-01  3.83620382e-01  4.34618959e-01  4.90068773e-01\n",
      "  5.50272869e-01  6.15550148e-01  6.86235852e-01  7.62682031e-01\n",
      "  8.45257998e-01  9.34350746e-01  1.03036534e+00  1.13372527e+00\n",
      "  1.24487276e+00  1.36426902e+00  1.49239444e+00  1.62974873e+00\n",
      "  1.77685096e+00  1.93423953e+00  2.10247204e+00  2.28212497e+00]\n"
     ]
    }
   ],
   "source": [
    "taylor_derivada_tercera = zero + taylor_derivada_primera + taylor_derivada_segunda + (funcion_y_derivada_3/6) * (h**3)\n",
    "print(taylor_derivada_tercera)"
   ]
  },
  {
   "cell_type": "code",
   "execution_count": 125,
   "id": "ce8b4f5a-7f7a-4883-8690-d1a6b02058ca",
   "metadata": {},
   "outputs": [
    {
     "name": "stdout",
     "output_type": "stream",
     "text": [
      "[-1.22889811e-02 -1.32457915e-02 -1.42612697e-02 -1.53380210e-02\n",
      " -1.64786874e-02 -1.76859397e-02 -1.89624677e-02 -2.03109699e-02\n",
      " -2.17341416e-02 -2.32346606e-02 -2.48151728e-02 -2.64782745e-02\n",
      " -2.82264938e-02 -3.00622690e-02 -3.19879256e-02 -3.40056502e-02\n",
      " -3.61174617e-02 -3.83251804e-02 -4.06303931e-02 -4.30344152e-02\n",
      " -4.55382497e-02 -4.81425418e-02 -5.08475295e-02 -5.36529905e-02\n",
      " -5.65581831e-02 -5.95617838e-02 -6.26618183e-02 -6.58555872e-02\n",
      " -6.91395861e-02 -7.25094185e-02 -7.59597028e-02 -7.94839710e-02\n",
      " -8.30745610e-02 -8.67224995e-02 -9.04173770e-02 -9.41472137e-02\n",
      " -9.78983154e-02 -1.01655119e-01 -1.05400030e-01 -1.09113241e-01\n",
      " -1.12772550e-01 -1.16353156e-01 -1.19827446e-01 -1.23164766e-01\n",
      " -1.26331184e-01 -1.29289224e-01 -1.31997602e-01 -1.34410930e-01\n",
      " -1.36479411e-01 -1.38148513e-01 -1.39358626e-01 -1.40044700e-01\n",
      " -1.40135855e-01 -1.39554985e-01 -1.38218322e-01 -1.36034994e-01\n",
      " -1.32906550e-01 -1.28726462e-01 -1.23379607e-01 -1.16741720e-01\n",
      " -1.08678821e-01 -9.90466196e-02 -8.76898867e-02 -7.44418054e-02\n",
      " -5.91232907e-02 -4.15422818e-02 -2.14930082e-02  1.24477407e-03\n",
      "  2.69065720e-02  5.57439738e-02  8.80254936e-02  1.24037442e-01\n",
      "  1.64084824e-01  2.08492257e-01  2.57604916e-01  3.11789499e-01\n",
      "  3.71435209e-01  4.36954760e-01  5.08785386e-01  5.87389872e-01\n",
      "  6.73257588e-01  7.66905525e-01  8.68879336e-01  9.79754361e-01\n",
      "  1.10013665e+00  1.23066397e+00  1.37200675e+00  1.52486906e+00\n",
      "  1.68998949e+00  1.86814199e+00  2.06013667e+00  2.26682047e+00\n",
      "  2.48907781e+00  2.72783109e+00  2.98404109e+00  3.25870723e+00\n",
      "  3.55286763e+00  3.86759910e+00  4.20401684e+00  4.56327388e+00]\n"
     ]
    }
   ],
   "source": [
    "taylor_derivada_cuarta = (zero + \n",
    "                         taylor_derivada_primera + \n",
    "                         taylor_derivada_segunda + \n",
    "                         taylor_derivada_tercera +\n",
    "                         funcion_y_derivada_4/24 * h**4)\n",
    "print(taylor_derivada_cuarta)"
   ]
  },
  {
   "cell_type": "code",
   "execution_count": 127,
   "id": "fc7381c2-d492-4cb5-a9f8-2e9a326af746",
   "metadata": {},
   "outputs": [
    {
     "name": "stdout",
     "output_type": "stream",
     "text": [
      "[-2.45779359e-02 -2.64915563e-02 -2.85225122e-02 -3.06760144e-02\n",
      " -3.29573470e-02 -3.53718513e-02 -3.79249072e-02 -4.06219118e-02\n",
      " -4.34682552e-02 -4.64692936e-02 -4.96303185e-02 -5.29565227e-02\n",
      " -5.64529622e-02 -6.01245139e-02 -6.39758285e-02 -6.80112794e-02\n",
      " -7.22349045e-02 -7.66503444e-02 -8.12607725e-02 -8.60688200e-02\n",
      " -9.10764928e-02 -9.62850812e-02 -1.01695062e-01 -1.07305989e-01\n",
      " -1.13116380e-01 -1.19123588e-01 -1.25323665e-01 -1.31711211e-01\n",
      " -1.38279218e-01 -1.45018894e-01 -1.51919473e-01 -1.58968022e-01\n",
      " -1.66149216e-01 -1.73445108e-01 -1.80834879e-01 -1.88294571e-01\n",
      " -1.95796794e-01 -2.03310423e-01 -2.10800267e-01 -2.18226714e-01\n",
      " -2.25545360e-01 -2.32706601e-01 -2.39655212e-01 -2.46329888e-01\n",
      " -2.52662759e-01 -2.58578880e-01 -2.63995679e-01 -2.68822380e-01\n",
      " -2.72959391e-01 -2.76297648e-01 -2.78717932e-01 -2.80090140e-01\n",
      " -2.80272517e-01 -2.79110845e-01 -2.76437593e-01 -2.72071017e-01\n",
      " -2.65814213e-01 -2.57454126e-01 -2.46760512e-01 -2.33484840e-01\n",
      " -2.17359150e-01 -1.98094861e-01 -1.75381516e-01 -1.48885482e-01\n",
      " -1.18248588e-01 -8.30867132e-02 -4.29883170e-02  2.48708810e-03\n",
      "  5.38105160e-02  1.11485143e-01  1.76047997e-01  2.48071699e-01\n",
      "  3.28166258e-01  4.16980909e-01  5.15206002e-01  6.23574933e-01\n",
      "  7.42866109e-01  8.73904954e-01  1.01756594e+00  1.17477463e+00\n",
      "  1.34650978e+00  1.53380535e+00  1.73775266e+00  1.95950240e+00\n",
      "  2.20026664e+00  2.46132093e+00  2.74400614e+00  3.04973041e+00\n",
      "  3.37997090e+00  3.73627553e+00  4.12026450e+00  4.53363170e+00\n",
      "  4.97814598e+00  5.45565215e+00  5.96807176e+00  6.51740362e+00\n",
      "  7.10572402e+00  7.73518657e+00  8.40802166e+00  9.12653535e+00]\n"
     ]
    }
   ],
   "source": [
    "taylor_derivada_quinta = (zero + \n",
    "                         taylor_derivada_primera + \n",
    "                         taylor_derivada_segunda + \n",
    "                         taylor_derivada_tercera +\n",
    "                         taylor_derivada_cuarta +\n",
    "                         funcion_y_derivada_5/120 * h**5)\n",
    "print(taylor_derivada_quinta)"
   ]
  },
  {
   "cell_type": "code",
   "execution_count": 135,
   "id": "13c5e7d2-2c8e-482d-aa83-293944b175a8",
   "metadata": {},
   "outputs": [
    {
     "name": "stdout",
     "output_type": "stream",
     "text": [
      "[-4.91558718e-02 -5.29831124e-02 -5.70450244e-02 -6.13520288e-02\n",
      " -6.59146940e-02 -7.07437027e-02 -7.58498145e-02 -8.12438236e-02\n",
      " -8.69365105e-02 -9.29385873e-02 -9.92606372e-02 -1.05913046e-01\n",
      " -1.12905925e-01 -1.20249028e-01 -1.27951657e-01 -1.36022559e-01\n",
      " -1.44469810e-01 -1.53300689e-01 -1.62521546e-01 -1.72137641e-01\n",
      " -1.82152986e-01 -1.92570163e-01 -2.03390124e-01 -2.14611979e-01\n",
      " -2.26232762e-01 -2.38247178e-01 -2.50647332e-01 -2.63422424e-01\n",
      " -2.76558439e-01 -2.90037789e-01 -3.03838949e-01 -3.17936047e-01\n",
      " -3.32298435e-01 -3.46890219e-01 -3.61669762e-01 -3.76589145e-01\n",
      " -3.91593591e-01 -4.06620850e-01 -4.21600538e-01 -4.36453433e-01\n",
      " -4.51090725e-01 -4.65413208e-01 -4.79310430e-01 -4.92659782e-01\n",
      " -5.05325526e-01 -5.17157768e-01 -5.27991367e-01 -5.37644770e-01\n",
      " -5.45918792e-01 -5.52595307e-01 -5.57435877e-01 -5.60180293e-01\n",
      " -5.60545047e-01 -5.58221704e-01 -5.52875202e-01 -5.44142050e-01\n",
      " -5.31628443e-01 -5.14908271e-01 -4.93521044e-01 -4.66969700e-01\n",
      " -4.34718323e-01 -3.96189746e-01 -3.50763057e-01 -2.97770990e-01\n",
      " -2.36497203e-01 -1.66173456e-01 -8.59766651e-02  4.97414342e-03\n",
      "  1.07620997e-01  2.22970250e-01  3.52095956e-01  4.96143358e-01\n",
      "  6.56332474e-01  8.33961774e-01  1.03041196e+00  1.24714982e+00\n",
      "  1.48573217e+00  1.74780986e+00  2.03513182e+00  2.34954921e+00\n",
      "  2.69301949e+00  3.06761064e+00  3.47550527e+00  3.91900472e+00\n",
      "  4.40053322e+00  4.92264179e+00  5.48801221e+00  6.09946074e+00\n",
      "  6.75994173e+00  7.47255098e+00  8.24052891e+00  9.06726332e+00\n",
      "  9.95629189e+00  1.09113042e+01  1.19361434e+01  1.30348072e+01\n",
      "  1.42114480e+01  1.54703731e+01  1.68160432e+01  1.82530706e+01]\n"
     ]
    }
   ],
   "source": [
    "taylor_derivada_sexta = (zero + \n",
    "                         taylor_derivada_primera + \n",
    "                         taylor_derivada_segunda + \n",
    "                         taylor_derivada_tercera +\n",
    "                         taylor_derivada_cuarta +\n",
    "                         taylor_derivada_quinta + \n",
    "                         funcion_y_derivada_6/720 * h**6)\n",
    "print(taylor_derivada_sexta)"
   ]
  },
  {
   "cell_type": "code",
   "execution_count": 137,
   "id": "b666325f-a03a-4f83-8636-b90bded971ab",
   "metadata": {},
   "outputs": [
    {
     "data": {
      "image/png": "[encoded data removed]",
      "text/plain": [
       "<Figure size 640x480 with 1 Axes>"
      ]
     },
     "metadata": {},
     "output_type": "display_data"
    }
   ],
   "source": [
    "plt.plot(x, funcion_y, label = ' y = sin(x-1)*(e**(2*x))')\n",
    "plt.plot(x, taylor_derivada_primera, label = 'taylor_derivada_primera')\n",
    "plt.plot(x, taylor_derivada_segunda, label = 'taylor_derivada_segunda')\n",
    "plt.plot(x, taylor_derivada_tercera, label = 'taylor_derivada_tercera')\n",
    "plt.plot(x, taylor_derivada_cuarta, label = 'taylor_derivada_cuarta')\n",
    "plt.plot(x, taylor_derivada_quinta, label = 'taylor_derivada_quinta')\n",
    "plt.plot(x, taylor_derivada_sexta, label = 'taylor_derivada_sexta')\n",
    "plt.plot(x, zero, label = 'Polinomio de orden 0')\n",
    "plt.title(\"Funcion y = sin(x-1)*(e**(2*x)) entre -1.5 y 1.5\")\n",
    "plt.xlabel(\"Valores de x\")\n",
    "plt.ylabel(\"Valores del sen(x)\")\n",
    "plt.legend()\n",
    "plt.grid()\n",
    "plt.savefig('Gráfico de series de taylor.png')\n",
    "plt.show()"
   ]
  },
  {
   "cell_type": "code",
   "execution_count": null,
   "id": "5b7bc198-bdfe-4836-8be2-33a52c0cdb84",
   "metadata": {},
   "outputs": [],
   "source": []
  }
 ],
 "metadata": {
  "kernelspec": {
   "display_name": "Python 3 (ipykernel)",
   "language": "python",
   "name": "python3"
  },
  "language_info": {
   "codemirror_mode": {
    "name": "ipython",
    "version": 3
   },
   "file_extension": ".py",
   "mimetype": "text/x-python",
   "name": "python",
   "nbconvert_exporter": "python",
   "pygments_lexer": "ipython3",
   "version": "3.9.13"
  }
 },
 "nbformat": 4,
 "nbformat_minor": 5
}
