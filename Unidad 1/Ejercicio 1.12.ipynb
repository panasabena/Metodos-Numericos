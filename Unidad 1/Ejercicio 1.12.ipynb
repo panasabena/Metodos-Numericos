{
 "cells": [
  {
   "cell_type": "code",
   "execution_count": 1,
   "id": "1fdd3e6f",
   "metadata": {},
   "outputs": [],
   "source": [
    "from math import exp\n",
    "from matplotlib import pyplot as plt\n",
    "## Ejercicio 1.12\n",
    "## La cantidad de contaminante radiactivo distribuido uniformemente que se encuentra contenido en un reactor cerrado, se mide\n",
    "## por su concentración c (becquerel/litro, o Bq/L). El contaminante disminuye con una tasa de decaimiento proporcional a su\n",
    "## concentración, es decir:\n",
    "## tasa_de_decaimiento = -k*c\n",
    "## donde k es una contante con unidades de día **-1. Entonces de acuerdo con la ecuación (1.13), puede escribirse un balance de\n",
    "## masa para el reactor, así:\n",
    "## dc/dt = 'cambio de masa'\n",
    "## -kc = 'disminución por decaimiento'\n",
    "## Use el método de Euler para resolver esta ecuación\n",
    "tf = 1.0 ## Tiempo final es un día (en unidades de día y no en segundos como yo lo había hecho)\n",
    "d = tf\n",
    "ti = 0.0\n",
    "dt = 0.1\n",
    "n = int((tf-ti)/dt) + 1\n",
    "t = [0.0]*n\n",
    "## Concentracion en t=0 es 10 Bq/L\n",
    "c = 10.0\n",
    "concentracion = [c]*n\n",
    "k = 0.2*d**-1"
   ]
  },
  {
   "cell_type": "code",
   "execution_count": 2,
   "id": "dbad2385",
   "metadata": {},
   "outputs": [
    {
     "name": "stdout",
     "output_type": "stream",
     "text": [
      "     t(s)       Concentración (Bq/L)\n",
      "    0.00        10.00000\n",
      "    0.10         9.80000\n",
      "    0.20         9.60000\n",
      "    0.30         9.40000\n",
      "    0.40         9.20000\n",
      "    0.50         9.00000\n",
      "    0.60         8.80000\n",
      "    0.70         8.60000\n",
      "    0.80         8.40000\n",
      "    0.90         8.20000\n",
      "    1.00         8.00000\n"
     ]
    },
    {
     "data": {
      "image/png": "[encoded data removed]",
      "text/plain": [
       "<Figure size 432x288 with 1 Axes>"
      ]
     },
     "metadata": {
      "needs_background": "light"
     },
     "output_type": "display_data"
    }
   ],
   "source": [
    "print('     t(s)       Concentración (Bq/L)')\n",
    "print('%8.2f %15.5f' % (t[0],c))\n",
    "for i in range (n-1):\n",
    "    t[i+1] = t[i] + dt\n",
    "    concentracion[i+1] = concentracion[i] + dt*-k*c\n",
    "    print('%8.2f %15.5f' % (t[i+1], concentracion[i+1]))\n",
    "plt.plot(t, concentracion,label='concentracion',color='b')\n",
    "#plt.plot(t, v_an,label='analitica',color='g')\n",
    "plt.legend(loc=2)\n",
    "plt.show()"
   ]
  },
  {
   "cell_type": "code",
   "execution_count": 1,
   "id": "c00df63d",
   "metadata": {},
   "outputs": [
    {
     "name": "stdout",
     "output_type": "stream",
     "text": [
      "-2.0\n"
     ]
    }
   ],
   "source": [
    "desplazamiento_vertical = 8-10  #(0,10) primer punto, (1,8), segundo punto\n",
    "desplazamiento_horizontal = 1-0 \n",
    "pendiente = desplazamiento_vertical/desplazamiento_horizontal\n",
    "print(pendiente)"
   ]
  }
 ],
 "metadata": {
  "kernelspec": {
   "display_name": "Python 3 (ipykernel)",
   "language": "python",
   "name": "python3"
  },
  "language_info": {
   "codemirror_mode": {
    "name": "ipython",
    "version": 3
   },
   "file_extension": ".py",
   "mimetype": "text/x-python",
   "name": "python",
   "nbconvert_exporter": "python",
   "pygments_lexer": "ipython3",
   "version": "3.8.8"
  }
 },
 "nbformat": 4,
 "nbformat_minor": 5
}
