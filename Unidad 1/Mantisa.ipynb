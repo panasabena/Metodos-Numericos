{
 "cells": [
  {
   "cell_type": "markdown",
   "id": "b53d67c4",
   "metadata": {},
   "source": [
    "## Mantisa"
   ]
  },
  {
   "cell_type": "code",
   "execution_count": 97,
   "id": "9b27b482",
   "metadata": {},
   "outputs": [
    {
     "name": "stdout",
     "output_type": "stream",
     "text": [
      "Ingrese un 0 ó un 1 para la mantisa:0\n",
      "Ingrese otro valor entero 0 ó 1: 0\n",
      "Ingrese otro valor entero 0 ó 1: 1\n",
      "Ingrese otro valor entero 0 ó 1: 1\n",
      "Ingrese otro valor entero 0 ó 1: 1\n",
      "Ingrese otro valor entero 0 ó 1: 1\n",
      "Ingrese otro valor entero 0 ó 1: 1\n",
      "[0, 0, 1, 1, 1, 1, 1]\n"
     ]
    }
   ],
   "source": [
    "mantisa = []\n",
    "ingrese = 12\n",
    "while ingrese != 0 and ingrese !=1:\n",
    "    ingrese = int(input(\"Ingrese un 0 ó un 1 para la mantisa:\"))\n",
    "mantisa.append(ingrese)\n",
    "while len(mantisa) < 7:\n",
    "    ingresar_nuevamente = int(input(\"Ingrese otro valor entero 0 ó 1: \"))\n",
    "    if ingresar_nuevamente == 0 or ingresar_nuevamente == 1:\n",
    "        mantisa.append(ingresar_nuevamente)\n",
    "    if ingresar_nuevamente != 0 and ingresar_nuevamente !=1:\n",
    "        ingresar_nuevamente = int(input(\"Ingrese un valor correcto entero entre 0 ó 1: \"))\n",
    "        mantisa.append(ingresar_nuevamente)\n",
    "while mantisa[4] == 0 and mantisa[5] == 1 and mantisa[6] == 0 or mantisa[4] == 0 and mantisa[5] == 1 and mantisa[6] == 1 or mantisa[4] != 0 and mantisa[4] != 1 or mantisa[5] != 0 and mantisa[5] != 1 or mantisa[6] != 0 and mantisa[6] != 1:\n",
    "    print(\"Esa configuración de mantisa no es valida, debe ingresar una magnitud de mantisa mayor o igual a 0.5\")\n",
    "    mantisa[4] = int(input(\"Mantisa[4] ingrese un nuevo valor: \"))\n",
    "    mantisa[5] = int(input(\"Mantisa[5] ingrese un nuevo valor: \"))\n",
    "    mantisa[6] = int(input(\"Mantisa[6] ingrese un nuevo valor: \"))\n",
    "\n",
    "print(mantisa)"
   ]
  },
  {
   "cell_type": "code",
   "execution_count": 98,
   "id": "75b8f739",
   "metadata": {},
   "outputs": [
    {
     "name": "stdout",
     "output_type": "stream",
     "text": [
      "La composición binaria de la mantisa es:\n",
      " [0, 0, 1, 1, 1, 1, 1]\n",
      "\n",
      "El signo del número es positivo\n",
      "Mantisa[0] implica el signo del número:  1\n",
      "Mantisa[1] implica el signo del exponente:  1\n",
      "Mantisa[2] + Mantisa[3] implica la magnitud del exponente:  3\n",
      "Mantisa[4] implica la magnitud de la mantisa:  1\n",
      "Mantisa[5] implica la magnitud de la mantisa:  1\n",
      "Mantisa[6] implica la magnitud de la mantisa:  1\n",
      "Magnitud de la mantisa:  ( 7.0 )₁₀\n"
     ]
    }
   ],
   "source": [
    "signo_del_numero = False\n",
    "print(\"La composición binaria de la mantisa es:\\n\", mantisa)\n",
    "if mantisa[0] == 0:\n",
    "    print(\"\\nEl signo del número es positivo\")\n",
    "    signo_del_numero = 1\n",
    "else:\n",
    "    print(\"\\nEl signo del número es negativo\")\n",
    "    signo_del_numero = -1\n",
    "    \n",
    "signo_del_exponente=False\n",
    "if mantisa[1] == 0:\n",
    "    signo_del_exponente = 1\n",
    "else:\n",
    "    signo_del_exponente = -1\n",
    "\n",
    "def magnitud_del_exponente(a,b):\n",
    "    magnitud_del_exponente = (a*2**1)+(b*2**0)\n",
    "    return magnitud_del_exponente\n",
    "mag=magnitud_del_exponente(mantisa[2],mantisa[3])\n",
    "print(\"Mantisa[0] implica el signo del número: \",signo_del_numero)\n",
    "print(\"Mantisa[1] implica el signo del exponente: \",signo_del_exponente)\n",
    "print(\"Mantisa[2] + Mantisa[3] implica la magnitud del exponente: \",mag)\n",
    "#print(\"Mantisa[3] implica la magnitud del exponente: \",mantisa[3])\n",
    "print(\"Mantisa[4] implica la magnitud de la mantisa: \", mantisa[4])\n",
    "print(\"Mantisa[5] implica la magnitud de la mantisa: \", mantisa[5])\n",
    "print(\"Mantisa[6] implica la magnitud de la mantisa: \", mantisa[6])\n",
    "magnitud_del_exponente = (mantisa[2]*2**1) + (mantisa[3]*2**0)\n",
    "#print(\"La magnitud del exponente es:\")\n",
    "signo_del_exponente=False\n",
    "if mantisa[1] == 1:\n",
    "    signo_del_exponente = -1\n",
    "else:\n",
    "    signo_del_exponente = 1\n",
    "print (\"Magnitud de la mantisa: \", \"(\",\n",
    "       (signo_del_numero*\n",
    "       ((mantisa[4]*2**(-1))+\n",
    "       (mantisa[5]*2**(-2))+\n",
    "       (mantisa[6]*2**(-3))))*\n",
    "       (2**(signo_del_exponente*magnitud_del_exponente)), \")₁₀\")\n",
    "\n"
   ]
  },
  {
   "cell_type": "markdown",
   "id": "34e3b3d6",
   "metadata": {},
   "source": [
    "### El número más chico que la mantisa puede representar es el [0,1,1,1,1,0,0] que es el ( 0.0625 )₁₀\n",
    "#### Entre el 0 y el ( 0.0625 )₁₀ no hay nada en el medio, por lo que puede interpretarse como el error que hay en el medio\n",
    "#### Y cuando va incrementando de valores, también lo va haciendo con un salto de valores no seguidos\n",
    "\n",
    "### El número más grande que la mantisa puede representar es el [0,0,1,1,1,1,1] que es el ( 7.0 )₁₀\n"
   ]
  },
  {
   "cell_type": "code",
   "execution_count": null,
   "id": "94d49344",
   "metadata": {},
   "outputs": [],
   "source": []
  }
 ],
 "metadata": {
  "kernelspec": {
   "display_name": "Python 3 (ipykernel)",
   "language": "python",
   "name": "python3"
  },
  "language_info": {
   "codemirror_mode": {
    "name": "ipython",
    "version": 3
   },
   "file_extension": ".py",
   "mimetype": "text/x-python",
   "name": "python",
   "nbconvert_exporter": "python",
   "pygments_lexer": "ipython3",
   "version": "3.8.8"
  }
 },
 "nbformat": 4,
 "nbformat_minor": 5
}
