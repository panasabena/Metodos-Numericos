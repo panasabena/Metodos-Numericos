{
 "cells": [
  {
   "cell_type": "code",
   "execution_count": 117,
   "id": "ba3e6c97",
   "metadata": {},
   "outputs": [
    {
     "name": "stdout",
     "output_type": "stream",
     "text": [
      "Imprimo t para ver que contiene:\n",
      " [0.0, 0.0, 0.0, 0.0, 0.0, 0.0, 0.0, 0.0, 0.0, 0.0, 0.0, 0.0, 0.0, 0.0, 0.0, 0.0, 0.0, 0.0, 0.0, 0.0, 0.0]\n",
      "     t(d)       Cambio de flujo (Q)\n",
      "    0.00         0.00000\n",
      "Vuelvo a imprimir t para ver que contiene:\n",
      " [0.0, 0.5, 1.0, 1.5, 2.0, 2.5, 3.0, 3.5, 4.0, 4.5, 5.0, 5.5, 6.0, 6.5, 7.0, 7.5, 8.0, 8.5, 9.0, 9.5, 10.0]\n",
      "Vemos que se va modificando con el paso del bucle\n"
     ]
    }
   ],
   "source": [
    "## Ejercicio N° 1.13:Un tanque de almacenamiento contiene un líquido con\n",
    "## profundidad y, donde y = 0 cuando el tanque está lleno a la mitad. \n",
    "## El líquido se extrae con una tasa de flujo constante Q a fin de \n",
    "## satisfacer las demandas. Se suministra el contenido a una tasa \n",
    "## senoidal de 3Q sen2(t).\n",
    "from matplotlib import pyplot as plt\n",
    "from math import *\n",
    "ti = 0\n",
    "tf = 10\n",
    "tamanio_del_paso = 0.5\n",
    "n = int((tf-ti)/dt) + 1\n",
    "t = [0.0]*n\n",
    "y = [0.0]*n\n",
    "A = 1200\n",
    "Q = 500\n",
    "print(\"Imprimo t para ver que contiene:\\n\",t)\n",
    "print('     t(d)       Cambio de flujo (Q)')\n",
    "print('%8.2f %15.5f' % (0,0))\n",
    "for i in range (n-1):\n",
    "    t[i+1] = t[i] + tamanio_del_paso\n",
    "    #y[i+1] = y[i] + (3*(Q/A)*sin(aca va el tiempo, pero me tira un error de que no va una lista)**2-(Q/A))*tamanio_del_paso\n",
    "    #print('%8.2f %15.5f' % (t[i+1], y[i+1]))\n",
    "\n",
    "print(\"Vuelvo a imprimir t para ver que contiene:\\n\",t)\n",
    "print(\"Vemos que se va modificando con el paso del bucle\")"
   ]
  },
  {
   "cell_type": "code",
   "execution_count": 118,
   "id": "6d4ca28d",
   "metadata": {},
   "outputs": [
    {
     "name": "stdout",
     "output_type": "stream",
     "text": [
      "[0.0, 0.5, 1.0, 1.5, 2.0, 2.5, 3.0, 3.5, 4.0, 4.5, 5.0, 5.5, 6.0, 6.5, 7.0, 7.5, 8.0, 8.5, 9.0, 9.5, 10.0]\n",
      "[0.0, 0.479425538604203, 0.8414709848078965, 0.9974949866040544, 0.9092974268256817, 0.5984721441039564, 0.1411200080598672, -0.35078322768961984, -0.7568024953079282, -0.977530117665097, -0.9589242746631385, -0.7055403255703919, -0.27941549819892586, 0.21511998808781552, 0.6569865987187891, 0.9379999767747389, 0.9893582466233818, 0.7984871126234903, 0.4121184852417566, -0.0751511204618093, -0.5440211108893698]\n",
      "21\n"
     ]
    },
    {
     "data": {
      "text/plain": [
       "[<matplotlib.lines.Line2D at 0x17ee39267f0>]"
      ]
     },
     "execution_count": 118,
     "metadata": {},
     "output_type": "execute_result"
    },
    {
     "data": {
      "image/png": "[encoded data removed]",
      "text/plain": [
       "<Figure size 432x288 with 1 Axes>"
      ]
     },
     "metadata": {
      "needs_background": "light"
     },
     "output_type": "display_data"
    }
   ],
   "source": [
    "print(t)\n",
    "seno=[]\n",
    "for i in t:\n",
    "    func=sin(i)\n",
    "    seno.append(func)\n",
    "print(seno)\n",
    "print(n)\n",
    "plt.plot(t, seno,label='flujo',color='b')"
   ]
  },
  {
   "cell_type": "code",
   "execution_count": 106,
   "id": "fa4d4013",
   "metadata": {},
   "outputs": [
    {
     "name": "stdout",
     "output_type": "stream",
     "text": [
      "Lista de senos:\n",
      " [0.0, 0.479425538604203, 0.8414709848078965, 0.9974949866040544, 0.9092974268256817, 0.5984721441039564, 0.1411200080598672, -0.35078322768961984, -0.7568024953079282, -0.977530117665097, -0.9589242746631385, -0.7055403255703919, -0.27941549819892586, 0.21511998808781552, 0.6569865987187891, 0.9379999767747389, 0.9893582466233818, 0.7984871126234903, 0.4121184852417566, -0.0751511204618093, -0.5440211108893698] \n",
      "\n",
      "Lista de tiempos:\n",
      " [0.0, 0.5, 1.0, 1.5, 2.0, 2.5, 3.0, 3.5, 4.0, 4.5, 5.0, 5.5, 6.0, 6.5, 7.0, 7.5, 8.0, 8.5, 9.0, 9.5, 10.0] \n",
      "\n",
      "Lista de diferenciales:\n",
      " [-0.20833333333333334, 0.07897772549907936, 0.6767584395086306, 1.0354119770419452, 0.8251939297064242, 0.23937780075215012, -0.1834397624898121, -0.05452224229789876, 0.50760418779705, 0.9861230803445896, 0.9410863723394493, 0.413900605424135, -0.11074205754114091, -0.15048757173970598, 0.3312059052867705, 0.89147161220343, 1.015203841868782, 0.5886437529489146, 0.003968724014116576, -0.20127371970000163, 0.16161537803329665] \n",
      "\n"
     ]
    }
   ],
   "source": [
    "tiempo_inicial = 0\n",
    "tiempo_final = 10\n",
    "tamanio_del_paso = 0.5\n",
    "n = int((tiempo_final-tiempo_inicial)/tamanio_del_paso) + 1\n",
    "# profundidad ---> y\n",
    "y = 0\n",
    "# Necesito una lista de tiempo, para luego imprimirla:\n",
    "t = [0.0]*n\n",
    "y = [0.0]*n\n",
    "A = 1200\n",
    "Q = 500\n",
    "#print('    t(d)         Cambio de flujo (Q)')\n",
    "#print('%8.2f %15.5f' % (0,0))\n",
    "senos=[]\n",
    "lista_de_tiempos=[0.0,0.5, 1.0, 1.5, 2.0, 2.5, 3.0, 3.5, 4.0, 4.5, 5.0, 5.5, 6.0, 6.5, 7.0, 7.5, 8.0, 8.5, 9.0, 9.5, 10.0]\n",
    "diferenciales=[]\n",
    "\n",
    "for i in lista_de_tiempos:\n",
    "    diferencial = 3*(Q/A)*sin(i)**2-Q/A*tamanio_del_paso\n",
    "    diferenciales.append(diferencial)\n",
    "\n",
    "for i in range (n-1):\n",
    "    t[i+1] = t[i] + tamanio_del_paso\n",
    "    #print('%8.2f' % (t[i+1]))\n",
    "    \n",
    "for i in t:\n",
    "    seno=sin(i)\n",
    "    senos.append(seno)\n",
    "\n",
    "print(\"Lista de senos:\\n\",senos,\"\\n\")\n",
    "print(\"Lista de tiempos:\\n\",lista_de_tiempos,\"\\n\")\n",
    "print(\"Lista de diferenciales:\\n\",diferenciales,\"\\n\")\n",
    "#    y[i+1] = y[i] + (3*(Q/A)*sin()**2-(Q/A))*tamanio_del_paso\n",
    "#    print('%8.2f %15.5f' % (t[i+1], y[i+1]))    "
   ]
  },
  {
   "cell_type": "code",
   "execution_count": 90,
   "id": "98dfee5d",
   "metadata": {},
   "outputs": [
    {
     "data": {
      "text/plain": [
       "[-0.20833333333333334,\n",
       " 0.07897772549907936,\n",
       " 0.6767584395086306,\n",
       " 1.0354119770419452,\n",
       " 0.8251939297064242,\n",
       " 0.23937780075215012,\n",
       " -0.1834397624898121,\n",
       " -0.05452224229789876,\n",
       " 0.50760418779705,\n",
       " 0.9861230803445896,\n",
       " 0.9410863723394493,\n",
       " 0.413900605424135,\n",
       " -0.11074205754114091,\n",
       " -0.15048757173970598,\n",
       " 0.3312059052867705,\n",
       " 0.89147161220343,\n",
       " 1.015203841868782,\n",
       " 0.5886437529489146,\n",
       " 0.003968724014116576,\n",
       " -0.20127371970000163,\n",
       " 0.16161537803329665]"
      ]
     },
     "execution_count": 90,
     "metadata": {},
     "output_type": "execute_result"
    }
   ],
   "source": [
    "diferenciales"
   ]
  },
  {
   "cell_type": "code",
   "execution_count": 108,
   "id": "2148ef12",
   "metadata": {},
   "outputs": [
    {
     "name": "stdout",
     "output_type": "stream",
     "text": [
      "Lista de tiempos:\n",
      " [0.0, 0.5, 1.0, 1.5, 2.0, 2.5, 3.0, 3.5, 4.0, 4.5, 5.0, 5.5, 6.0, 6.5, 7.0, 7.5, 8.0, 8.5, 9.0, 9.5, 10.0]\n"
     ]
    }
   ],
   "source": [
    "print(\"Lista de tiempos:\\n\",t)"
   ]
  },
  {
   "cell_type": "code",
   "execution_count": 122,
   "id": "2a126108",
   "metadata": {},
   "outputs": [
    {
     "name": "stdout",
     "output_type": "stream",
     "text": [
      "    t(s)     Profundidad\n",
      "    0.00      0.00000\n",
      "    0.50     -0.20833\n",
      "    1.00     -0.12936\n",
      "    1.50      0.54740\n",
      "    2.00      1.58281\n",
      "    2.50      2.40801\n",
      "    3.00      2.64739\n",
      "    3.50      2.46395\n",
      "    4.00      2.40942\n",
      "    4.50      2.91703\n",
      "    5.00      3.90315\n",
      "    5.50      4.84424\n",
      "    6.00      5.25814\n",
      "    6.50      5.14740\n",
      "    7.00      4.99691\n",
      "    7.50      5.32812\n",
      "    8.00      6.21959\n",
      "    8.50      7.23479\n",
      "    9.00      7.82343\n",
      "    9.50      7.82740\n",
      "   10.00      7.62613\n"
     ]
    }
   ],
   "source": [
    "print ('    t(s)     Profundidad')\n",
    "print ('%8.2f %12.5f' % (t[0], y[0]))\n",
    "profundidad=[0.0]\n",
    "for i in range (n-1):\n",
    "    t[i+1]=t[i]+tamanio_del_paso\n",
    "    y[i+1]=y[i]+diferenciales[i]\n",
    "    profundidad.append(y[i+1])\n",
    "    print ('%8.2f %12.5f' % (t[i+1],y[i+1]))"
   ]
  },
  {
   "cell_type": "code",
   "execution_count": 124,
   "id": "848d889b",
   "metadata": {},
   "outputs": [
    {
     "name": "stdout",
     "output_type": "stream",
     "text": [
      "[0.0, 0.5, 1.0, 1.5, 2.0, 2.5, 3.0, 3.5, 4.0, 4.5, 5.0, 5.5, 6.0, 6.5, 7.0, 7.5, 8.0, 8.5, 9.0, 9.5, 10.0]\n",
      "[0.0, -0.20833333333333334, -0.12935560783425398, 0.5474028316743766, 1.5828148087163219, 2.408008738422746, 2.6473865391748963, 2.463946776685084, 2.4094245343871856, 2.9170287221842357, 3.9031518025288254, 4.844238174868274, 5.258138780292409, 5.147396722751268, 4.996909151011562, 5.328115056298333, 6.219586668501763, 7.234790510370545, 7.823434263319459, 7.827402987333576, 7.626129267633575]\n"
     ]
    }
   ],
   "source": [
    "print(t)\n",
    "print(profundidad)"
   ]
  },
  {
   "cell_type": "code",
   "execution_count": 125,
   "id": "7f876b0d",
   "metadata": {},
   "outputs": [
    {
     "data": {
      "text/plain": [
       "[<matplotlib.lines.Line2D at 0x17ee3714400>]"
      ]
     },
     "execution_count": 125,
     "metadata": {},
     "output_type": "execute_result"
    },
    {
     "data": {
      "image/png": "[encoded data removed]",
      "text/plain": [
       "<Figure size 432x288 with 1 Axes>"
      ]
     },
     "metadata": {
      "needs_background": "light"
     },
     "output_type": "display_data"
    }
   ],
   "source": [
    "## Grafico de flujo del nivel de agua en el estanque\n",
    "\n",
    "plt.plot(t, profundidad,label='flujo',color='b')"
   ]
  },
  {
   "cell_type": "code",
   "execution_count": null,
   "id": "aa067b6d",
   "metadata": {},
   "outputs": [],
   "source": []
  }
 ],
 "metadata": {
  "kernelspec": {
   "display_name": "Python 3 (ipykernel)",
   "language": "python",
   "name": "python3"
  },
  "language_info": {
   "codemirror_mode": {
    "name": "ipython",
    "version": 3
   },
   "file_extension": ".py",
   "mimetype": "text/x-python",
   "name": "python",
   "nbconvert_exporter": "python",
   "pygments_lexer": "ipython3",
   "version": "3.8.8"
  }
 },
 "nbformat": 4,
 "nbformat_minor": 5
}
