{
 "cells": [
  {
   "cell_type": "markdown",
   "id": "afc7a32b-bafe-4cff-9ce4-4eb0ef0da9f6",
   "metadata": {},
   "source": [
    "## Problema 2.1\n",
    "Escriba el seudocódigo para implementar el diagrama de \n",
    "flujo que se ilustra en la figura P2.1. Asegúrese de incluir la in\u0002dentación apropiada para que la estructura sea clara.\n",
    "\n",
    "<img src = 'https://github.com/panasabena/Metodos-Numericos/blob/master/Unidad%201/Im%C3%A1genes/Figura%20P2.1.png' height = '300'> "
   ]
  },
  {
   "cell_type": "code",
   "execution_count": 18,
   "id": "a261feca-7d3a-480a-afdf-8673f6b00b53",
   "metadata": {},
   "outputs": [],
   "source": [
    "import random as r"
   ]
  },
  {
   "cell_type": "code",
   "execution_count": 50,
   "id": "f9b954e3-492d-4e1f-b2fe-d171d85b179b",
   "metadata": {},
   "outputs": [],
   "source": [
    "x = r.randint(0, 100)"
   ]
  },
  {
   "cell_type": "code",
   "execution_count": 51,
   "id": "e860771d-343f-46b4-b4c1-de5099032614",
   "metadata": {},
   "outputs": [
    {
     "data": {
      "text/plain": [
       "37"
      ]
     },
     "execution_count": 51,
     "metadata": {},
     "output_type": "execute_result"
    }
   ],
   "source": [
    "x"
   ]
  },
  {
   "cell_type": "code",
   "execution_count": 52,
   "id": "686c3145-0025-46b6-9e6c-d3983b926459",
   "metadata": {},
   "outputs": [
    {
     "name": "stdout",
     "output_type": "stream",
     "text": [
      "Se le restó 5 a x 0 veces\n",
      "Ahora el valor de x es:  37\n"
     ]
    }
   ],
   "source": [
    "contador = 0\n",
    "if x < 10:\n",
    "    if x < 5:\n",
    "        x = 5\n",
    "    else:\n",
    "        print('El valor de x es: ',x)\n",
    "while x > 50:\n",
    "        x = x - 5\n",
    "        contador += 1\n",
    "print('Se le restó 5 a x', contador, 'veces')\n",
    "print('Ahora el valor de x es: ', x)"
   ]
  },
  {
   "cell_type": "code",
   "execution_count": null,
   "id": "fd0f51af-3a3b-4649-8bd6-24fee60dbc46",
   "metadata": {},
   "outputs": [],
   "source": []
  }
 ],
 "metadata": {
  "kernelspec": {
   "display_name": "Python 3 (ipykernel)",
   "language": "python",
   "name": "python3"
  },
  "language_info": {
   "codemirror_mode": {
    "name": "ipython",
    "version": 3
   },
   "file_extension": ".py",
   "mimetype": "text/x-python",
   "name": "python",
   "nbconvert_exporter": "python",
   "pygments_lexer": "ipython3",
   "version": "3.9.13"
  }
 },
 "nbformat": 4,
 "nbformat_minor": 5
}
