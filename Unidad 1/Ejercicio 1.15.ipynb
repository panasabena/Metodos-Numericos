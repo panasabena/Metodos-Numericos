{
 "cells": [
  {
   "cell_type": "code",
   "execution_count": 18,
   "id": "695eeecc",
   "metadata": {},
   "outputs": [],
   "source": [
    "## Ejercicio 1.15\n",
    "## Suponga que una gota esférica de líquido se evapora a una tasa proporcional al área de su superficie. dv/dt = -kA\n",
    "## donde V = volumen (mm3), t = tiempo (h), k = la tasa de evaporación (mm/h), y A = área superficial (mm2).\n",
    "## Emplee el método de Euler para calcular el volumen de la gota desde t = 0 hasta 10 min usando un tamaño \n",
    "## de paso de 0.25 min. Suponga que k = 0.1 mm/min, y que al inicio la gota tiene un radio de 3 mm. Evalúe \n",
    "## la validez de sus resultados por medio de determinar el radio de su volumen final calculado y la verificación de que\n",
    "## es consistente con la tasa de evaporación."
   ]
  },
  {
   "cell_type": "code",
   "execution_count": 19,
   "id": "3d27130e",
   "metadata": {},
   "outputs": [],
   "source": [
    "## Importamos librerias\n",
    "from matplotlib import pyplot as plt\n",
    "from math import *"
   ]
  },
  {
   "cell_type": "code",
   "execution_count": 45,
   "id": "f9d9e5ff",
   "metadata": {},
   "outputs": [],
   "source": [
    "## Definimos variables\n",
    "ti = 0\n",
    "tf = 10 ## Tiempo en minutos desde t = 0 hasta t = 10 min\n",
    "tamanio_de_paso = 0.25 ## tamanio de paso de 0.25 min\n",
    "n = int((tf-ti)/tamanio_de_paso) + 1\n",
    "t = [0]*n\n",
    "k = 0.1 ## mm/min\n",
    "radio = 3\n",
    "A = pi*radio**2\n",
    "gota = [radio]*n"
   ]
  },
  {
   "cell_type": "code",
   "execution_count": 46,
   "id": "81ba5181",
   "metadata": {},
   "outputs": [],
   "source": [
    "size=[]\n",
    "def Euler(pendiente, tamanio_del_paso, n, y):\n",
    "    for i in range (n-1):\n",
    "        y[i+1] = y[i] + pendiente*tamanio_del_paso\n",
    "        size.append(y[i])\n",
    "        print(y[i])"
   ]
  },
  {
   "cell_type": "code",
   "execution_count": 47,
   "id": "707d9d6b",
   "metadata": {},
   "outputs": [],
   "source": [
    "pendiente = -k*A"
   ]
  },
  {
   "cell_type": "code",
   "execution_count": 48,
   "id": "f65c30c7",
   "metadata": {},
   "outputs": [
    {
     "name": "stdout",
     "output_type": "stream",
     "text": [
      "3\n",
      "2.2931416529422965\n",
      "1.586283305884593\n",
      "0.8794249588268896\n",
      "0.1725666117691862\n",
      "-0.5342917352885173\n",
      "-1.2411500823462207\n",
      "-1.9480084294039242\n",
      "-2.6548667764616276\n",
      "-3.361725123519331\n",
      "-4.0685834705770345\n",
      "-4.7754418176347375\n",
      "-5.482300164692441\n",
      "-6.189158511750145\n",
      "-6.896016858807849\n",
      "-7.602875205865553\n",
      "-8.309733552923257\n",
      "-9.016591899980961\n",
      "-9.723450247038665\n",
      "-10.430308594096369\n",
      "-11.137166941154073\n",
      "-11.844025288211776\n",
      "-12.55088363526948\n",
      "-13.257741982327184\n",
      "-13.964600329384888\n",
      "-14.671458676442592\n",
      "-15.378317023500296\n",
      "-16.085175370557998\n",
      "-16.792033717615702\n",
      "-17.498892064673406\n",
      "-18.20575041173111\n",
      "-18.912608758788814\n",
      "-19.619467105846518\n",
      "-20.32632545290422\n",
      "-21.033183799961925\n",
      "-21.74004214701963\n",
      "-22.446900494077333\n",
      "-23.153758841135037\n",
      "-23.86061718819274\n",
      "-24.567475535250445\n"
     ]
    }
   ],
   "source": [
    "Euler(pendiente,tamanio_de_paso,n,gota)"
   ]
  },
  {
   "cell_type": "code",
   "execution_count": 62,
   "id": "afb5321d",
   "metadata": {},
   "outputs": [
    {
     "data": {
      "text/plain": [
       "40"
      ]
     },
     "execution_count": 62,
     "metadata": {},
     "output_type": "execute_result"
    }
   ],
   "source": [
    "#size\n",
    "tiempo=[]\n",
    "for i in range(n-1):\n",
    "    t[i+1] = t[i] + tamanio_de_paso\n",
    "    tiempo.append(t[i+1])\n",
    "len(tiempo)"
   ]
  },
  {
   "cell_type": "code",
   "execution_count": 65,
   "id": "d383a537",
   "metadata": {},
   "outputs": [
    {
     "data": {
      "image/png": "[encoded data removed]",
      "text/plain": [
       "<Figure size 720x432 with 1 Axes>"
      ]
     },
     "metadata": {
      "needs_background": "light"
     },
     "output_type": "display_data"
    }
   ],
   "source": [
    "## La lista de resultados anteriores es el area del valor de la gota. Cuando el valor del area es cero se sobre entiende\n",
    "## que a ese tiempo el valor es cero y no que sigue decreciendo (porque ya es negativo)\n",
    "\n",
    "s = [3*s**2 for s in size]\n",
    "\n",
    "fig, ax = plt.subplots(figsize=(10, 6))\n",
    "ax.scatter(tiempo, size, s = s)\n",
    "plt.xlabel(\"Tiempo\")\n",
    "plt.ylabel(\"Area de la gota\")\n",
    "\n",
    "plt.show()\n"
   ]
  },
  {
   "cell_type": "code",
   "execution_count": null,
   "id": "dc158f44",
   "metadata": {},
   "outputs": [],
   "source": []
  }
 ],
 "metadata": {
  "kernelspec": {
   "display_name": "Python 3 (ipykernel)",
   "language": "python",
   "name": "python3"
  },
  "language_info": {
   "codemirror_mode": {
    "name": "ipython",
    "version": 3
   },
   "file_extension": ".py",
   "mimetype": "text/x-python",
   "name": "python",
   "nbconvert_exporter": "python",
   "pygments_lexer": "ipython3",
   "version": "3.8.8"
  }
 },
 "nbformat": 4,
 "nbformat_minor": 5
}
