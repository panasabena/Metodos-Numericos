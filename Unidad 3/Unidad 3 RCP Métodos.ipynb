{
 "cells": [
  {
   "cell_type": "markdown",
   "id": "1e2f3b79-2e75-492e-8654-6e7cd937f110",
   "metadata": {},
   "source": [
    "### Ejercicio de los reactores Chapra - Sistemas de ecuaciones"
   ]
  },
  {
   "cell_type": "code",
   "execution_count": 2,
   "id": "bf036104-f2a0-4bb9-9403-adadcffdc287",
   "metadata": {},
   "outputs": [],
   "source": [
    "import numpy as np"
   ]
  },
  {
   "cell_type": "code",
   "execution_count": 6,
   "id": "46e01f63-2a21-4874-b495-86428109a51a",
   "metadata": {},
   "outputs": [
    {
     "name": "stdout",
     "output_type": "stream",
     "text": [
      "Los valores de c1, c2, c3, c4, c5 son:\n",
      "[11.50943396 11.50943396 19.05660377 16.99828473 11.50943396]\n"
     ]
    }
   ],
   "source": [
    "# Definir la matriz de coeficientes\n",
    "A = np.array([[6, 0, -1, 0, 0],\n",
    "              [-3, 3, 0, 0, 0],\n",
    "              [0, -1, 9, 0, 0],\n",
    "              [0, -1, -8, 11, -2],\n",
    "              [-3, -1, 0, 0, 4]])\n",
    "\n",
    "# Definir el vector de términos independientes\n",
    "B = np.array([50, 0, 160, 0, 0])\n",
    "\n",
    "# Resolver el sistema de ecuaciones\n",
    "X = np.linalg.solve(A, B)\n",
    "\n",
    "# Imprimir los valores de las incógnitas\n",
    "print(\"Los valores de c1, c2, c3, c4, c5 son:\")\n",
    "print(X)"
   ]
  },
  {
   "cell_type": "markdown",
   "id": "77e2d6e3-7845-41fc-80c7-d106bd45013c",
   "metadata": {},
   "source": [
    "### Analisis de un reticulado - Sistemas de ecuaciones"
   ]
  },
  {
   "cell_type": "code",
   "execution_count": 3,
   "id": "b1dd09be-c0e7-47a7-b9f1-d96619e1933d",
   "metadata": {},
   "outputs": [
    {
     "name": "stdout",
     "output_type": "stream",
     "text": [
      "Valores de los coeficientes:\n",
      "F1 = -500.0220009680426\n",
      "F2 = 433.0190528383249\n",
      "F3 = -866.0381056766498\n",
      "H2 = -4.8074772256248556e-14\n",
      "V2 = 250.0110004840213\n",
      "V3 = 749.9889995159788\n"
     ]
    }
   ],
   "source": [
    "# Definir la matriz de coeficientes\n",
    "A = np.array([[0.866, 0, -0.5, 0, 0, 0],\n",
    "              [0.5, 0, 0.866, 0, 0, 0],\n",
    "              [-0.866, -1, 0, -1, 0, 0],\n",
    "              [-0.5, 0, 0, 0, -1, 0],\n",
    "              [0, 1, 0.5, 0, 0, 0],\n",
    "              [0, 0, -0.866, 0, 0, -1]])\n",
    "\n",
    "# Definir el vector del lado derecho\n",
    "B = np.array([0, -1000, 0, 0, 0, 0])\n",
    "\n",
    "# Resolver el sistema de ecuaciones\n",
    "coefficients = np.linalg.solve(A, B)\n",
    "\n",
    "# Imprimir los valores de los coeficientes\n",
    "print(\"Valores de los coeficientes:\")\n",
    "print(\"F1 =\", coefficients[0])\n",
    "print(\"F2 =\", coefficients[1])\n",
    "print(\"F3 =\", coefficients[2])\n",
    "print(\"H2 =\", coefficients[3])\n",
    "print(\"V2 =\", coefficients[4])\n",
    "print(\"V3 =\", coefficients[5])"
   ]
  },
  {
   "cell_type": "code",
   "execution_count": 7,
   "id": "fd3dd7cc-3533-468b-b72c-40f8e5b90209",
   "metadata": {},
   "outputs": [
    {
     "name": "stdout",
     "output_type": "stream",
     "text": [
      "Matriz inversa de A (redondeada a 3 decimales):\n",
      "\n",
      "[[ 0.866  0.5    0.     0.     0.     0.   ]\n",
      " [ 0.25  -0.433 -0.    -0.     1.    -0.   ]\n",
      " [-0.5    0.866  0.     0.     0.     0.   ]\n",
      " [-1.     0.    -1.    -0.    -1.    -0.   ]\n",
      " [-0.433 -0.25  -0.    -1.    -0.    -0.   ]\n",
      " [ 0.433 -0.75  -0.    -0.    -0.    -1.   ]]\n"
     ]
    }
   ],
   "source": [
    "## Matriz inversa de A\n",
    "A = np.array([[0.866, 0, -0.5, 0, 0, 0],\n",
    "              [0.5, 0, 0.866, 0, 0, 0],\n",
    "              [-0.866, -1, 0, -1, 0, 0],\n",
    "              [-0.5, 0, 0, 0, -1, 0],\n",
    "              [0, 1, 0.5, 0, 0, 0],\n",
    "              [0, 0, -0.866, 0, 0, -1]])\n",
    "\n",
    "A_inv = np.linalg.inv(A)\n",
    "\n",
    "A_inv_rounded = np.round(A_inv, decimals=3)\n",
    "\n",
    "print(\"Matriz inversa de A (redondeada a 3 decimales):\\n\")\n",
    "print(A_inv_rounded)"
   ]
  },
  {
   "cell_type": "code",
   "execution_count": 12,
   "id": "be34ccda-2d78-4ece-8973-f97515027cca",
   "metadata": {},
   "outputs": [
    {
     "name": "stdout",
     "output_type": "stream",
     "text": [
      "Matriz A x A_invertida con decimales: \n",
      "\n",
      "[[ 1.00000000e+00  0.00000000e+00  0.00000000e+00  0.00000000e+00\n",
      "   0.00000000e+00  0.00000000e+00]\n",
      " [ 0.00000000e+00  1.00000000e+00  0.00000000e+00  0.00000000e+00\n",
      "   0.00000000e+00  0.00000000e+00]\n",
      " [-1.11022302e-16 -4.80747723e-17  1.00000000e+00  0.00000000e+00\n",
      "   0.00000000e+00  0.00000000e+00]\n",
      " [-5.55111512e-17  0.00000000e+00  0.00000000e+00  1.00000000e+00\n",
      "   0.00000000e+00  0.00000000e+00]\n",
      " [-5.55111512e-17  0.00000000e+00  0.00000000e+00  0.00000000e+00\n",
      "   1.00000000e+00  0.00000000e+00]\n",
      " [ 5.55111512e-17  0.00000000e+00  0.00000000e+00  0.00000000e+00\n",
      "   0.00000000e+00  1.00000000e+00]]\n",
      "\n",
      "Matriz A x A_invertida redondeada: \n",
      "\n",
      "[[ 1.  0.  0.  0.  0.  0.]\n",
      " [ 0.  1.  0.  0.  0.  0.]\n",
      " [-0. -0.  1.  0.  0.  0.]\n",
      " [-0.  0.  0.  1.  0.  0.]\n",
      " [-0.  0.  0.  0.  1.  0.]\n",
      " [ 0.  0.  0.  0.  0.  1.]]\n"
     ]
    }
   ],
   "source": [
    "## Multilicamos A * A^-1  para verificar si el sistema está bien condicionado\n",
    "A_por_A_inv_decimals = np.matmul(A, A_inv)\n",
    "print(\"Matriz A x A_invertida con decimales: \\n\")\n",
    "print(A_por_A_inv_decimals)\n",
    "A_mult_A_inv = np.round(np.matmul(A, A_inv),decimals = 3)\n",
    "print(\"\\nMatriz A x A_invertida redondeada: \\n\")\n",
    "print(A_mult_A_inv)"
   ]
  },
  {
   "cell_type": "markdown",
   "id": "7ce22ba8-c3d5-435a-ae78-1dfe5f48b155",
   "metadata": {},
   "source": [
    "### `Vemos que la matriz llega a la identidad o está muy próxima a serlo, por lo que está bien condicionada.`\n",
    "\n",
    "#### <ins>`¿Para qué sirve calcular la matriz inversa?`</ins>\n",
    "\n",
    "<ins>Solución de sistemas de ecuaciones:</ins> Si tienes un sistema de ecuaciones lineales Ax=bAx=b, donde AA es una matriz cuadrada invertible, puedes utilizar la matriz inversa para obtener la solución exacta: x=A^−1bx=A^−1b. Sin embargo, calcular la matriz inversa directamente puede ser computacionalmente costoso y menos eficiente que otros métodos de resolución de sistemas.\n",
    "\n",
    "<ins>Verificación de soluciones:</ins> Si ya tienes una solución aproximada del sistema de ecuaciones Ax=bAx=b, puedes utilizar la matriz inversa para verificar si la solución es correcta. Al multiplicar la solución aproximada por la matriz inversa y obtener el resultado A^−1(Ax)=(A^−1A)x=Ix=xA^−1(Ax)=(A^−1 A)x=Ix=x, puedes confirmar si la solución es válida.\n",
    "\n",
    "<ins>Análisis de la matriz: </ins>Calcular la matriz inversa puede proporcionar información sobre las propiedades de la matriz original, como su condicionamiento, independencia lineal de las columnas y singularidad. Estas propiedades pueden ser útiles para comprender la estabilidad y el comportamiento del sistema representado por la matriz.\n",
    "\n",
    "Sin embargo, es importante destacar que calcular la matriz inversa puede no ser la mejor opción en términos de eficiencia y estabilidad numérica en sistemas grandes o mal condicionados. En su lugar, se recomienda utilizar métodos de resolución de sistemas de ecuaciones lineales más eficientes, como la eliminación de Gauss, la descomposición LU o métodos iterativos como el método de Gauss-Seidel o el método de Jacobi. Estos métodos pueden ofrecer soluciones más rápidas y estables para resolver sistemas de ecuaciones lineales."
   ]
  },
  {
   "cell_type": "markdown",
   "id": "68a9818a-62af-432e-8df3-f75dfb406e5e",
   "metadata": {},
   "source": [
    "## Tipo de problema: Sistemas de ecuaciones lineales\n",
    "### Método usado para resolver este ejericio: Eliminación de Gauss\n",
    "El código que proporcioné utiliza el método de resolución de sistemas de ecuaciones lineales mediante la función numpy.linalg.solve(). Este método utiliza la eliminación de Gauss con pivoteo parcial para encontrar la solución del sistema.\n",
    "\n",
    "La función numpy.linalg.solve() implementa un algoritmo basado en descomposición LU para resolver el sistema de ecuaciones. En la implementación interna, se utilizan técnicas de pivoteo parcial para mejorar la estabilidad numérica y evitar problemas de división por cero.\n",
    "\n",
    "En resumen, el método matemático utilizado en este caso es la eliminación de Gauss con pivoteo parcial, que es una técnica comúnmente utilizada para resolver sistemas de ecuaciones lineales.\n",
    "\n",
    "### En este método se usa el pivoteo parcial:\n",
    "El pivoteo parcial es una técnica utilizada en la eliminación de Gauss y otros métodos de resolución de sistemas de ecuaciones lineales. Consiste en intercambiar filas en la matriz de coeficientes de manera estratégica para seleccionar el elemento máximo (en valor absoluto) en la columna actual como pivote.\n",
    "\n",
    "El objetivo del pivoteo parcial es evitar problemas numéricos, como la división por cero o la amplificación de errores de redondeo, que pueden ocurrir cuando los elementos de la diagonal principal de la matriz son pequeños o cercanos a cero.\n",
    "\n",
    "El proceso del pivoteo parcial se realiza en cada paso de la eliminación de Gauss. En cada columna, se busca el elemento máximo en valor absoluto debajo de la posición actual del pivote. Luego, se intercambia la fila actual con la fila que contiene el elemento máximo, de manera que el elemento máximo se convierta en el nuevo pivote.\n",
    "\n",
    "Al intercambiar las filas, se asegura que el pivote seleccionado sea lo más grande posible en valor absoluto, lo que reduce la posibilidad de errores numéricos significativos en las operaciones posteriores.\n",
    "\n",
    "En resumen, el pivoteo parcial es una técnica que se utiliza para mejorar la estabilidad numérica en la resolución de sistemas de ecuaciones lineales, asegurando que se seleccionen los pivotes más grandes en valor absoluto en cada paso de la eliminación de Gauss.\n",
    "\n",
    "### Otras consideraciones\n",
    "* `En cuanto al significado de los coeficientes;` \n",
    "\n",
    "En este contexto específico de una armadura estáticamente determinada, los coeficientes representan las fuerzas (tensión o compresión) en los componentes de la armadura y las reacciones externas en los puntos de apoyo.\n",
    "\n",
    "    F1, F2 y F3 representan las fuerzas en los componentes de la armadura.\n",
    "    H2 representa la fuerza horizontal en el apoyo fijo en el nodo 2.\n",
    "    V2 representa la fuerza vertical en el apoyo fijo en el nodo 2.\n",
    "    V3 representa la fuerza vertical en el apoyo móvil en el nodo 3.\n",
    "\n",
    "Estos coeficientes son soluciones del sistema de ecuaciones y representan las magnitudes de las fuerzas en los diferentes componentes y puntos de apoyo de la armadura para el caso específico dado por las ecuaciones y las condiciones de carga.\n",
    "\n",
    "* <ins>`Tipos de error:` <ins>\n",
    "\n",
    "El análisis de sistemas de ecuaciones lineales puede estar sujeto a varios tipos de errores, que pueden afectar la precisión y confiabilidad de los resultados obtenidos. Algunos de los errores comunes asociados con el análisis de sistemas de ecuaciones lineales son:\n",
    "\n",
    "`Error de redondeo:` Este error ocurre debido a la representación finita de los números en una computadora. Los cálculos numéricos implican aproximaciones y redondeos, lo que puede introducir pequeños errores en los cálculos y propagarse a lo largo de las operaciones.\n",
    "\n",
    "`Error de truncamiento:` Este error se produce cuando se utilizan aproximaciones o métodos numéricos que requieren la truncación de una serie o una función continua para su cálculo. La aproximación de una serie infinita o una función continua por una versión truncada puede llevar a una pérdida de precisión y un error en los resultados.\n",
    "\n",
    "`Error de condicionamiento:` El condicionamiento se refiere a la sensibilidad del sistema de ecuaciones a pequeñas perturbaciones en los datos de entrada. Si un sistema de ecuaciones está mal condicionado, pequeños errores en los datos de entrada pueden provocar grandes errores en los resultados. Esto puede ocurrir cuando los coeficientes de la matriz están muy cerca de cero o cuando los coeficientes tienen magnitudes muy diferentes entre sí.\n",
    "\n",
    "`Error de aproximación:` Este error puede ocurrir cuando se utilizan métodos numéricos para resolver el sistema de ecuaciones. Los métodos numéricos, como la eliminación de Gauss o los métodos iterativos, utilizan aproximaciones y algoritmos discretos para encontrar soluciones aproximadas. Estas soluciones pueden no ser exactas y pueden introducir errores en los resultados.\n",
    "\n",
    "Es importante tener en cuenta estos errores y considerar técnicas de manejo de errores, como el uso de tamaños de paso adecuados, métodos numéricos más precisos, mejor condicionamiento de los datos y análisis de sensibilidad, para minimizar su impacto en el análisis de sistemas de ecuaciones lineales."
   ]
  },
  {
   "cell_type": "code",
   "execution_count": null,
   "id": "44a68fe7-843f-463a-8683-7a75935bf59f",
   "metadata": {},
   "outputs": [],
   "source": []
  }
 ],
 "metadata": {
  "kernelspec": {
   "display_name": "Python 3 (ipykernel)",
   "language": "python",
   "name": "python3"
  },
  "language_info": {
   "codemirror_mode": {
    "name": "ipython",
    "version": 3
   },
   "file_extension": ".py",
   "mimetype": "text/x-python",
   "name": "python",
   "nbconvert_exporter": "python",
   "pygments_lexer": "ipython3",
   "version": "3.10.9"
  }
 },
 "nbformat": 4,
 "nbformat_minor": 5
}
